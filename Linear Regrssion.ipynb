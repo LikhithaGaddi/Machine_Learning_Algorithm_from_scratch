{
 "cells": [
  {
   "cell_type": "markdown",
   "metadata": {
    "id": "nncP5eQd0IXL"
   },
   "source": [
    "# REGRESSION\n",
    "\n",
    "Please find the Diamond Price Prediction Data set https://drive.google.com/drive/folders/1qE1tm3Ke3uotTyv6SUqruI09t-AkcwRK?usp=sharing. \"description.txt\" contains the feature description of data, \"diamonds.csv\" has the data."
   ]
  },
  {
   "cell_type": "code",
   "execution_count": 1,
   "metadata": {
    "id": "EhFbx6v-4SP8"
   },
   "outputs": [
    {
     "data": {
      "text/html": [
       "<div>\n",
       "<style scoped>\n",
       "    .dataframe tbody tr th:only-of-type {\n",
       "        vertical-align: middle;\n",
       "    }\n",
       "\n",
       "    .dataframe tbody tr th {\n",
       "        vertical-align: top;\n",
       "    }\n",
       "\n",
       "    .dataframe thead th {\n",
       "        text-align: right;\n",
       "    }\n",
       "</style>\n",
       "<table border=\"1\" class=\"dataframe\">\n",
       "  <thead>\n",
       "    <tr style=\"text-align: right;\">\n",
       "      <th></th>\n",
       "      <th>carat</th>\n",
       "      <th>cut</th>\n",
       "      <th>color</th>\n",
       "      <th>clarity</th>\n",
       "      <th>depth</th>\n",
       "      <th>table</th>\n",
       "      <th>price</th>\n",
       "      <th>x</th>\n",
       "      <th>y</th>\n",
       "      <th>z</th>\n",
       "    </tr>\n",
       "  </thead>\n",
       "  <tbody>\n",
       "    <tr>\n",
       "      <th>count</th>\n",
       "      <td>53940</td>\n",
       "      <td>53940</td>\n",
       "      <td>53940</td>\n",
       "      <td>53940</td>\n",
       "      <td>53940</td>\n",
       "      <td>53940</td>\n",
       "      <td>53940</td>\n",
       "      <td>53940</td>\n",
       "      <td>53940</td>\n",
       "      <td>53940</td>\n",
       "    </tr>\n",
       "    <tr>\n",
       "      <th>unique</th>\n",
       "      <td>273</td>\n",
       "      <td>5</td>\n",
       "      <td>7</td>\n",
       "      <td>8</td>\n",
       "      <td>184</td>\n",
       "      <td>127</td>\n",
       "      <td>11602</td>\n",
       "      <td>554</td>\n",
       "      <td>552</td>\n",
       "      <td>375</td>\n",
       "    </tr>\n",
       "    <tr>\n",
       "      <th>top</th>\n",
       "      <td>0.3</td>\n",
       "      <td>Ideal</td>\n",
       "      <td>G</td>\n",
       "      <td>SI1</td>\n",
       "      <td>62</td>\n",
       "      <td>56</td>\n",
       "      <td>605</td>\n",
       "      <td>4.37</td>\n",
       "      <td>4.34</td>\n",
       "      <td>2.7</td>\n",
       "    </tr>\n",
       "    <tr>\n",
       "      <th>freq</th>\n",
       "      <td>2604</td>\n",
       "      <td>21551</td>\n",
       "      <td>11292</td>\n",
       "      <td>13065</td>\n",
       "      <td>2239</td>\n",
       "      <td>9881</td>\n",
       "      <td>132</td>\n",
       "      <td>448</td>\n",
       "      <td>437</td>\n",
       "      <td>767</td>\n",
       "    </tr>\n",
       "  </tbody>\n",
       "</table>\n",
       "</div>"
      ],
      "text/plain": [
       "        carat    cut  color clarity  depth  table  price      x      y      z\n",
       "count   53940  53940  53940   53940  53940  53940  53940  53940  53940  53940\n",
       "unique    273      5      7       8    184    127  11602    554    552    375\n",
       "top       0.3  Ideal      G     SI1     62     56    605   4.37   4.34    2.7\n",
       "freq     2604  21551  11292   13065   2239   9881    132    448    437    767"
      ]
     },
     "execution_count": 1,
     "metadata": {},
     "output_type": "execute_result"
    }
   ],
   "source": [
    "%config IPCompleter.greedy=False\n",
    "\n",
    "# To read data from diamonds.csv\n",
    "import pandas as pd\n",
    "import random\n",
    "import time\n",
    "from sklearn.preprocessing import OrdinalEncoder\n",
    "from tabulate import tabulate\n",
    "from sklearn.metrics import r2_score\n",
    "import numpy as np\n",
    "import seaborn as sns\n",
    "import math\n",
    "from pprint import pprint\n",
    "import statistics\n",
    "from matplotlib import pyplot as plt\n",
    "from scipy import stats\n",
    "\n",
    "headers = [\"carat\",\t\"cut\",\"color\",\"clarity\",\"depth\",\"table\",\"price\",\"x\",\"y\",\"z\"]\n",
    "data = pd.read_csv('Regression_Diamonds_data/diamonds.csv', na_values='?',    \n",
    "         header=None,  names = headers) \n",
    "data = data.reset_index(drop=True)\n",
    "data = data.iloc[1:]\n",
    "data.describe()\n",
    "#print(data) "
   ]
  },
  {
   "cell_type": "markdown",
   "metadata": {},
   "source": [
    "### About the dataset:\n",
    "\n",
    "1. We have both categorical and numerical data \n",
    "2. For columns cut,color and clarity we have categorical data"
   ]
  },
  {
   "cell_type": "markdown",
   "metadata": {
    "id": "p64BQ-W3zpkM"
   },
   "source": [
    "\n",
    "\n",
    "```\n",
    "# This is formatted as code\n",
    "```\n",
    "\n",
    "**KNN Regression [Diamond Price Prediction Dataset]**"
   ]
  },
  {
   "cell_type": "markdown",
   "metadata": {
    "id": "pi5z3DDg04cc"
   },
   "source": [
    "1. a) Build a knn regression algorithm [using only python from scratch] to predict the price of diamonds."
   ]
  },
  {
   "cell_type": "markdown",
   "metadata": {},
   "source": [
    "# Data Preprocessing"
   ]
  },
  {
   "cell_type": "code",
   "execution_count": 2,
   "metadata": {},
   "outputs": [
    {
     "name": "stdout",
     "output_type": "stream",
     "text": [
      "<class 'pandas.core.frame.DataFrame'>\n",
      "RangeIndex: 53940 entries, 1 to 53940\n",
      "Data columns (total 10 columns):\n",
      " #   Column   Non-Null Count  Dtype \n",
      "---  ------   --------------  ----- \n",
      " 0   carat    53940 non-null  object\n",
      " 1   cut      53940 non-null  object\n",
      " 2   color    53940 non-null  object\n",
      " 3   clarity  53940 non-null  object\n",
      " 4   depth    53940 non-null  object\n",
      " 5   table    53940 non-null  object\n",
      " 6   price    53940 non-null  object\n",
      " 7   x        53940 non-null  object\n",
      " 8   y        53940 non-null  object\n",
      " 9   z        53940 non-null  object\n",
      "dtypes: object(10)\n",
      "memory usage: 4.1+ MB\n"
     ]
    }
   ],
   "source": [
    "data.info()"
   ]
  },
  {
   "cell_type": "markdown",
   "metadata": {},
   "source": [
    "### Observations:\n",
    "\n",
    "1. As the non null values in all columns are same. We can say there are no null values in the given data set\n",
    "2. Price is the target value, that has to be predicted"
   ]
  },
  {
   "cell_type": "markdown",
   "metadata": {},
   "source": [
    "### Check for categorical data and convert to numerical values"
   ]
  },
  {
   "cell_type": "code",
   "execution_count": 3,
   "metadata": {},
   "outputs": [
    {
     "data": {
      "text/plain": [
       "Ideal        21551\n",
       "Premium      13791\n",
       "Very Good    12082\n",
       "Good          4906\n",
       "Fair          1610\n",
       "Name: cut, dtype: int64"
      ]
     },
     "execution_count": 3,
     "metadata": {},
     "output_type": "execute_result"
    }
   ],
   "source": [
    "data.cut.value_counts()"
   ]
  },
  {
   "cell_type": "code",
   "execution_count": 4,
   "metadata": {},
   "outputs": [
    {
     "data": {
      "text/plain": [
       "G    11292\n",
       "E     9797\n",
       "F     9542\n",
       "H     8304\n",
       "D     6775\n",
       "I     5422\n",
       "J     2808\n",
       "Name: color, dtype: int64"
      ]
     },
     "execution_count": 4,
     "metadata": {},
     "output_type": "execute_result"
    }
   ],
   "source": [
    "data.color.value_counts()"
   ]
  },
  {
   "cell_type": "code",
   "execution_count": 5,
   "metadata": {},
   "outputs": [
    {
     "data": {
      "text/plain": [
       "SI1     13065\n",
       "VS2     12258\n",
       "SI2      9194\n",
       "VS1      8171\n",
       "VVS2     5066\n",
       "VVS1     3655\n",
       "IF       1790\n",
       "I1        741\n",
       "Name: clarity, dtype: int64"
      ]
     },
     "execution_count": 5,
     "metadata": {},
     "output_type": "execute_result"
    }
   ],
   "source": [
    "data.clarity.value_counts()"
   ]
  },
  {
   "cell_type": "markdown",
   "metadata": {},
   "source": [
    "# Data Preparation"
   ]
  },
  {
   "cell_type": "markdown",
   "metadata": {},
   "source": [
    "Now as the categorical data is converted into numerical, we can continue training the data"
   ]
  },
  {
   "cell_type": "code",
   "execution_count": 6,
   "metadata": {},
   "outputs": [],
   "source": [
    "\n",
    "\n",
    "# enc = OrdinalEncoder()\n",
    "cut_mapper = {\"Fair\":1,\"Good\":2,\"Very Good\":3,\"Premium\":4,\"Ideal\":5}\n",
    "color_mapper = {\"D\":7,\"E\":6,\"F\":5,\"G\":4,\"H\":3,\"I\":2,\"J\":1}\n",
    "clarity_mapper = {\"I1\":1,\"SI2\":2,\"SI1\":3,\"VS2\":4,\"VS1\":5,\"VVS2\":6,\"VVS1\":7,\"IF\":8}\n",
    "# enc.fit(X)\n",
    "data['cut'] = data['cut'].replace(cut_mapper)\n",
    "data['color'] = data['color'].replace(color_mapper)\n",
    "data['clarity'] = data['clarity'].replace(clarity_mapper)\n",
    "\n",
    "\n",
    "\n",
    "keys = [\"carat\",\"depth\",\"price\",\"table\",\"x\",\"y\",\"z\"]\n",
    "index_non_categorical = [0,4,5,6,6,7,8]\n",
    "for x in keys:\n",
    "    data[x] = [float(item) for item in data[x]]"
   ]
  },
  {
   "cell_type": "markdown",
   "metadata": {
    "id": "NlPGwmq2elOR"
   },
   "source": [
    "# **Linear Regression**\n"
   ]
  },
  {
   "cell_type": "markdown",
   "metadata": {
    "id": "DB9Co3225uTa"
   },
   "source": [
    "2a) Implement a Linear Regression model (from the scratch) taking suitable independent variables from the dataset. \n",
    "\n",
    "Report and Calculate the error obtained.\n"
   ]
  },
  {
   "cell_type": "markdown",
   "metadata": {},
   "source": [
    "As depth is a column which is dependent of x,y and z. We don't need to use that as it can be derived from the coefficients of the columns x,y and z"
   ]
  },
  {
   "cell_type": "code",
   "execution_count": 33,
   "metadata": {
    "id": "wsckTq4zzxnx"
   },
   "outputs": [
    {
     "name": "stdout",
     "output_type": "stream",
     "text": [
      "MSE:  130098736.68409386\n",
      "MAE:  10655.156363198716\n",
      "r_score: 0.0036858653638780913\n"
     ]
    }
   ],
   "source": [
    "def hypothesis(theta,X,constant):\n",
    "    return constant + (np.dot(X,theta.T))\n",
    "\n",
    "def cost_function(theta,X,y,m,constant):\n",
    "    d = np.sum((hypothesis(theta,X,constant)-y)**2)\n",
    "    d/=(2*m)\n",
    "    return d\n",
    "\n",
    "def gradient_descent(theta,X,y,m,epochs,alpha,constant):\n",
    "    i = 0\n",
    "    cost = []\n",
    "    while i<epochs:\n",
    "        h = hypothesis(theta,X,constant)\n",
    "        z = h - y\n",
    "        constant = constant - ((alpha)*(np.sum(z)))/m\n",
    "        theta = theta - ((alpha)*(np.sum(np.dot(X.T,z),axis=0)))/m\n",
    "        cost.append(cost_function(theta,X,y,m,constant))\n",
    "        i+=1\n",
    "    return theta,cost,constant\n",
    "\n",
    "\n",
    "def predict(X,y,test):\n",
    "    m = len(X)\n",
    "\n",
    "    temp = 0.005\n",
    "    theta = np.repeat(temp,len(X[0]))\n",
    "    \n",
    "    aplha = 0.00005\n",
    "    epochs = 10000\n",
    "    \n",
    "    theta,cost,constant = gradient_descent(theta,X,y,m,10,0.01,0.0000001)\n",
    "    y_predict = hypothesis(theta,test,constant)\n",
    "    return (y_predict)\n",
    "\n",
    "\n",
    "\n",
    "y_predict_LR = predict(X_train,y_train,X_test)\n",
    "\n",
    "error = r_squared(y_predict_LR,y_test)\n",
    "\n",
    "display_error(y_predict_LR,y_test)"
   ]
  },
  {
   "cell_type": "markdown",
   "metadata": {
    "id": "6PUfKXGU6DQ2"
   },
   "source": [
    "2b) What are the best suitable features you used to predict the price of the dataset and Why?\n",
    "\n",
    "Idea: Use Correlation to get the suitable features and Report the values accordingly."
   ]
  },
  {
   "cell_type": "markdown",
   "metadata": {},
   "source": [
    "The best suitable features are the one which are highly correlated with the price(column to be predicted). So we can filter them by using the corr() function and then deduce the columns"
   ]
  },
  {
   "cell_type": "code",
   "execution_count": 21,
   "metadata": {
    "id": "nUVKOe6d6g2u",
    "scrolled": false
   },
   "outputs": [
    {
     "data": {
      "image/png": "[encoded data removed]",
      "text/plain": [
       "<Figure size 432x288 with 2 Axes>"
      ]
     },
     "metadata": {
      "needs_background": "light"
     },
     "output_type": "display_data"
    }
   ],
   "source": [
    "#code for Correlation between features and the Diamond Price.\n",
    "def plot_graph(corr):\n",
    "    sns.heatmap(corr, \n",
    "            xticklabels=corr.columns,\n",
    "            yticklabels=corr.columns)\n",
    "\n",
    "corr = data.corr()\n",
    "plot_graph(corr)\n",
    "\n",
    "\n",
    "columns = np.full((corr.shape[0],), True, dtype=bool)\n",
    "\n",
    "\n",
    "for i in range(0, corr.shape[0]):\n",
    "    if(abs(corr.iloc[i,6])<0.2):\n",
    "        columns[i] = False\n",
    "                \n",
    "selected_columns = data.columns[columns]"
   ]
  },
  {
   "cell_type": "markdown",
   "metadata": {},
   "source": [
    "##### Observations:\n",
    "\n",
    "We conclude that two columns are closely related if the correlation value between them is near to (+1 or -1)\n",
    "Here the columns carat,x,y and z are closely related to the column price. which is the value we have to predict"
   ]
  },
  {
   "cell_type": "code",
   "execution_count": 22,
   "metadata": {},
   "outputs": [],
   "source": [
    "## Let us run the algorithm by only considering the columns which are closely related to price\n",
    "\n",
    "X = data[selected_columns]\n",
    "y = data['price']\n",
    "\n",
    "from sklearn.model_selection import train_test_split\n",
    "X_train_correlation, X_test_correlation, y_train_correlation, y_test_correlation = train_test_split(X, y, test_size = 0.2, random_state = 0)\n",
    "\n",
    "\n",
    "X_train_correlation = X_train_correlation.to_numpy()\n",
    "X_test_correlation = X_test_correlation.to_numpy()\n",
    "y_train_correlation = y_train_correlation.to_numpy()\n",
    "y_test_correlation = y_test_correlation.to_numpy()"
   ]
  },
  {
   "cell_type": "code",
   "execution_count": 23,
   "metadata": {},
   "outputs": [
    {
     "name": "stdout",
     "output_type": "stream",
     "text": [
      "MSE:  2.9655425443086803e+117\n",
      "MAE:  3.8314863624980054e+58\n",
      "r_score: 0.9999998548499477\n"
     ]
    }
   ],
   "source": [
    "y_predict_correlation = predict(X_train_correlation,y_train_correlation,X_test_correlation)\n",
    "display_error(y_predict_correlation,y_test_correlation)\n",
    "\n",
    "MSE = mean_square_error(y_predict_correlation,y_test_correlation)\n",
    "MAE = mean_absolute_error(y_predict_correlation,y_test_correlation)\n",
    "R2_score = r_squared(y_predict_correlation,y_test_correlation)\n",
    "scores2 = [MSE,MAE,R2_score]"
   ]
  },
  {
   "cell_type": "markdown",
   "metadata": {},
   "source": [
    "##### Observation:\n",
    "\n",
    "We can observe that by considering only closely related values we get more accuracy(r-squared value)"
   ]
  },
  {
   "cell_type": "markdown",
   "metadata": {
    "id": "3QB-vCqz6u5z"
   },
   "source": [
    "Explanation for 2b) - "
   ]
  },
  {
   "cell_type": "markdown",
   "metadata": {
    "id": "NNDl68N26yY3"
   },
   "source": [
    "2c) Use the module Linear Regression from sklearn to predict the price of diamonds(considering the same attributes as before) and compare the result obtained with the above. \n"
   ]
  },
  {
   "cell_type": "code",
   "execution_count": 24,
   "metadata": {
    "id": "50xYhwND64tM"
   },
   "outputs": [
    {
     "name": "stdout",
     "output_type": "stream",
     "text": [
      "MSE:  3.319760798049055e-24\n",
      "MAE:  1.4464932362353298e-12\n",
      "r_score: 1.0\n"
     ]
    }
   ],
   "source": [
    "# import sklearn model\n",
    "\n",
    "from sklearn.linear_model import LinearRegression \n",
    "\n",
    "regr = LinearRegression() \n",
    "  \n",
    "regr.fit(X_train_correlation, y_train_correlation) \n",
    "y_predict = regr.predict(X_test_correlation) \n",
    "display_error(y_predict,y_test_correlation)"
   ]
  },
  {
   "cell_type": "code",
   "execution_count": 25,
   "metadata": {},
   "outputs": [],
   "source": [
    "MSE = mean_square_error(y_predict_correlation,y_test_correlation)\n",
    "MAE = mean_absolute_error(y_predict_correlation,y_test_correlation)\n",
    "R2_score = r_squared(y_predict_correlation,y_test_correlation)\n",
    "scores1 = [MSE,MAE,R2_score]"
   ]
  },
  {
   "cell_type": "code",
   "execution_count": 26,
   "metadata": {},
   "outputs": [
    {
     "name": "stdout",
     "output_type": "stream",
     "text": [
      "Model                 MSE          MAE    R2\n",
      "-----------  ------------  -----------  ----\n",
      "Implemented  2.96554e+117  3.83149e+58     1\n",
      "sklearn      2.96554e+117  3.83149e+58     1\n"
     ]
    }
   ],
   "source": [
    "tabular_data=[[\"Implemented\"]+scores2,[\"sklearn\"]+scores1]\n",
    "print(tabulate(tabular_data, headers=['Model','MSE','MAE','R2']))"
   ]
  },
  {
   "cell_type": "markdown",
   "metadata": {
    "id": "121Z4wwx7CLk"
   },
   "source": [
    "2d) Now, using the whole dataset, predict the price of the Diamonds using the module of Linear Regression from sklearn. Report the changes you have observed compared to before? Adding extra features did it make the prediction better or worse.Comment? \n"
   ]
  },
  {
   "cell_type": "code",
   "execution_count": 27,
   "metadata": {
    "id": "Eo1pB2QB7Jqz"
   },
   "outputs": [
    {
     "name": "stdout",
     "output_type": "stream",
     "text": [
      "MSE:  2002297.6958848173\n",
      "MAE:  957.0703249562245\n",
      "r_score: 0.9089345519564922\n"
     ]
    }
   ],
   "source": [
    "regr.fit(X_train, y_train) \n",
    "y_predict = regr.predict(X_test) \n",
    "display_error(y_predict,y_test)"
   ]
  },
  {
   "cell_type": "markdown",
   "metadata": {
    "id": "cAqKLuCh7qP5"
   },
   "source": [
    "2e) Now, compare the algorithms KNN regression and Linear Regression. What are the differences you have observed? Which is better and why. Your statements should be backed up with statistics. \n"
   ]
  },
  {
   "cell_type": "code",
   "execution_count": 28,
   "metadata": {},
   "outputs": [
    {
     "name": "stdout",
     "output_type": "stream",
     "text": [
      "Model                            MSE            MAE        R2\n",
      "-----------------  -----------------  -------------  --------\n",
      "Linear regression       2.96554e+117    3.83149e+58  1\n",
      "KNN regression     839878             456.912        0.947759\n"
     ]
    }
   ],
   "source": [
    "score3 = [mean_square_error2, mean_absolute_error2, r_squared2]\n",
    "\n",
    "tabular_data=[[\"Linear regression\"]+scores2,[\"KNN regression\"]+score3]\n",
    "print(tabulate(tabular_data, headers=['Model','MSE','MAE','R2']))"
   ]
  },
  {
   "cell_type": "markdown",
   "metadata": {},
   "source": [
    "Linear regression is a prametric approach beacuse it assumes a linear functional form of f(X) where as kNN is a non-parametric method.\n",
    "\n",
    "Advantages of Linear regression here we only need to estimate a small number of coefiicients. Often easy to interpret. But it makes strong assumptions about the form of f(X). Suppose we assume a linear relationship between X and Y but the true relationship is far from lienar, then the resulting model will provide a poor fit to the data, and any conclusions drawn from it will be a suspect. \n",
    "\n",
    "When it comes to KNN it don't assume an explicit form for f(X), providing a more flexible approach. But this can often be more complex to understand and interpret. Also takes more time for computation. So called as lazy-learning algorithm.\n",
    "\n",
    "\n",
    "If there are small number of observations per predictor, then linear regression method works better. \n",
    "\n",
    "But one advantage of KNN is that we don't have to train the data prior. So we keep on adding the data. \n",
    "\n",
    "For this particular example, I got more accuracy for linear regression. So I prefer that over KNN. We can choose which algorithm to proceed with before starting the implementation. If we are not satisfied with the results, we can always go with other algorithms. \n",
    "\n",
    "We have to make sure whatever the algorithm we are choosing, the data should be shaped so that it satisfies the assumptions made by the algorithm. "
   ]
  }
 ],
 "metadata": {
  "colab": {
   "collapsed_sections": [
    "6poNZp96z1gN"
   ],
   "name": "SMAI -Assignment1.ipynb",
   "provenance": []
  },
  "kernelspec": {
   "display_name": "Python 3",
   "language": "python",
   "name": "python3"
  },
  "language_info": {
   "codemirror_mode": {
    "name": "ipython",
    "version": 3
   },
   "file_extension": ".py",
   "mimetype": "text/x-python",
   "name": "python",
   "nbconvert_exporter": "python",
   "pygments_lexer": "ipython3",
   "version": "3.7.9"
  }
 },
 "nbformat": 4,
 "nbformat_minor": 1
}
