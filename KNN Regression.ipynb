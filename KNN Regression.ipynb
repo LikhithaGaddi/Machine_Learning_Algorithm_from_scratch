{
 "cells": [
  {
   "cell_type": "markdown",
   "metadata": {
    "id": "nncP5eQd0IXL"
   },
   "source": [
    "**1) REGRESSION**\n",
    "\n",
    "Please find the Diamond Price Prediction Data set https://drive.google.com/drive/folders/1qE1tm3Ke3uotTyv6SUqruI09t-AkcwRK?usp=sharing. \"description.txt\" contains the feature description of data, \"diamonds.csv\" has the data."
   ]
  },
  {
   "cell_type": "code",
   "execution_count": 1,
   "metadata": {
    "id": "EhFbx6v-4SP8"
   },
   "outputs": [
    {
     "data": {
      "text/html": [
       "<div>\n",
       "<style scoped>\n",
       "    .dataframe tbody tr th:only-of-type {\n",
       "        vertical-align: middle;\n",
       "    }\n",
       "\n",
       "    .dataframe tbody tr th {\n",
       "        vertical-align: top;\n",
       "    }\n",
       "\n",
       "    .dataframe thead th {\n",
       "        text-align: right;\n",
       "    }\n",
       "</style>\n",
       "<table border=\"1\" class=\"dataframe\">\n",
       "  <thead>\n",
       "    <tr style=\"text-align: right;\">\n",
       "      <th></th>\n",
       "      <th>carat</th>\n",
       "      <th>cut</th>\n",
       "      <th>color</th>\n",
       "      <th>clarity</th>\n",
       "      <th>depth</th>\n",
       "      <th>table</th>\n",
       "      <th>price</th>\n",
       "      <th>x</th>\n",
       "      <th>y</th>\n",
       "      <th>z</th>\n",
       "    </tr>\n",
       "  </thead>\n",
       "  <tbody>\n",
       "    <tr>\n",
       "      <th>count</th>\n",
       "      <td>53940</td>\n",
       "      <td>53940</td>\n",
       "      <td>53940</td>\n",
       "      <td>53940</td>\n",
       "      <td>53940</td>\n",
       "      <td>53940</td>\n",
       "      <td>53940</td>\n",
       "      <td>53940</td>\n",
       "      <td>53940</td>\n",
       "      <td>53940</td>\n",
       "    </tr>\n",
       "    <tr>\n",
       "      <th>unique</th>\n",
       "      <td>273</td>\n",
       "      <td>5</td>\n",
       "      <td>7</td>\n",
       "      <td>8</td>\n",
       "      <td>184</td>\n",
       "      <td>127</td>\n",
       "      <td>11602</td>\n",
       "      <td>554</td>\n",
       "      <td>552</td>\n",
       "      <td>375</td>\n",
       "    </tr>\n",
       "    <tr>\n",
       "      <th>top</th>\n",
       "      <td>0.3</td>\n",
       "      <td>Ideal</td>\n",
       "      <td>G</td>\n",
       "      <td>SI1</td>\n",
       "      <td>62</td>\n",
       "      <td>56</td>\n",
       "      <td>605</td>\n",
       "      <td>4.37</td>\n",
       "      <td>4.34</td>\n",
       "      <td>2.7</td>\n",
       "    </tr>\n",
       "    <tr>\n",
       "      <th>freq</th>\n",
       "      <td>2604</td>\n",
       "      <td>21551</td>\n",
       "      <td>11292</td>\n",
       "      <td>13065</td>\n",
       "      <td>2239</td>\n",
       "      <td>9881</td>\n",
       "      <td>132</td>\n",
       "      <td>448</td>\n",
       "      <td>437</td>\n",
       "      <td>767</td>\n",
       "    </tr>\n",
       "  </tbody>\n",
       "</table>\n",
       "</div>"
      ],
      "text/plain": [
       "        carat    cut  color clarity  depth  table  price      x      y      z\n",
       "count   53940  53940  53940   53940  53940  53940  53940  53940  53940  53940\n",
       "unique    273      5      7       8    184    127  11602    554    552    375\n",
       "top       0.3  Ideal      G     SI1     62     56    605   4.37   4.34    2.7\n",
       "freq     2604  21551  11292   13065   2239   9881    132    448    437    767"
      ]
     },
     "execution_count": 1,
     "metadata": {},
     "output_type": "execute_result"
    }
   ],
   "source": [
    "%config IPCompleter.greedy=False\n",
    "\n",
    "# To read data from diamonds.csv\n",
    "import pandas as pd\n",
    "import random\n",
    "import time\n",
    "from sklearn.preprocessing import OrdinalEncoder\n",
    "from tabulate import tabulate\n",
    "from sklearn.metrics import r2_score\n",
    "import numpy as np\n",
    "import seaborn as sns\n",
    "import math\n",
    "from pprint import pprint\n",
    "import statistics\n",
    "from matplotlib import pyplot as plt\n",
    "from scipy import stats\n",
    "\n",
    "headers = [\"carat\",\t\"cut\",\"color\",\"clarity\",\"depth\",\"table\",\"price\",\"x\",\"y\",\"z\"]\n",
    "data = pd.read_csv('Regression_Diamonds_data/diamonds.csv', na_values='?',    \n",
    "         header=None,  names = headers) \n",
    "data = data.reset_index(drop=True)\n",
    "data = data.iloc[1:]\n",
    "data.describe()\n",
    "#print(data) "
   ]
  },
  {
   "cell_type": "markdown",
   "metadata": {},
   "source": [
    "### About the dataset:\n",
    "\n",
    "1. We have both categorical and numerical data \n",
    "2. For columns cut,color and clarity we have categorical data"
   ]
  },
  {
   "cell_type": "markdown",
   "metadata": {
    "id": "p64BQ-W3zpkM"
   },
   "source": [
    "\n",
    "\n",
    "```\n",
    "# This is formatted as code\n",
    "```\n",
    "\n",
    "**KNN Regression [Diamond Price Prediction Dataset]**"
   ]
  },
  {
   "cell_type": "markdown",
   "metadata": {
    "id": "pi5z3DDg04cc"
   },
   "source": [
    "1. a) Build a knn regression algorithm [using only python from scratch] to predict the price of diamonds."
   ]
  },
  {
   "cell_type": "markdown",
   "metadata": {},
   "source": [
    "# Data Preprocessing"
   ]
  },
  {
   "cell_type": "code",
   "execution_count": 2,
   "metadata": {},
   "outputs": [
    {
     "name": "stdout",
     "output_type": "stream",
     "text": [
      "<class 'pandas.core.frame.DataFrame'>\n",
      "RangeIndex: 53940 entries, 1 to 53940\n",
      "Data columns (total 10 columns):\n",
      " #   Column   Non-Null Count  Dtype \n",
      "---  ------   --------------  ----- \n",
      " 0   carat    53940 non-null  object\n",
      " 1   cut      53940 non-null  object\n",
      " 2   color    53940 non-null  object\n",
      " 3   clarity  53940 non-null  object\n",
      " 4   depth    53940 non-null  object\n",
      " 5   table    53940 non-null  object\n",
      " 6   price    53940 non-null  object\n",
      " 7   x        53940 non-null  object\n",
      " 8   y        53940 non-null  object\n",
      " 9   z        53940 non-null  object\n",
      "dtypes: object(10)\n",
      "memory usage: 4.1+ MB\n"
     ]
    }
   ],
   "source": [
    "data.info()"
   ]
  },
  {
   "cell_type": "markdown",
   "metadata": {},
   "source": [
    "### Observations:\n",
    "\n",
    "1. As the non null values in all columns are same. We can say there are no null values in the given data set\n",
    "2. Price is the target value, that has to be predicted"
   ]
  },
  {
   "cell_type": "markdown",
   "metadata": {},
   "source": [
    "### Check for categorical data and convert to numerical values"
   ]
  },
  {
   "cell_type": "code",
   "execution_count": 3,
   "metadata": {},
   "outputs": [
    {
     "data": {
      "text/plain": [
       "Ideal        21551\n",
       "Premium      13791\n",
       "Very Good    12082\n",
       "Good          4906\n",
       "Fair          1610\n",
       "Name: cut, dtype: int64"
      ]
     },
     "execution_count": 3,
     "metadata": {},
     "output_type": "execute_result"
    }
   ],
   "source": [
    "data.cut.value_counts()"
   ]
  },
  {
   "cell_type": "code",
   "execution_count": 4,
   "metadata": {},
   "outputs": [
    {
     "data": {
      "text/plain": [
       "G    11292\n",
       "E     9797\n",
       "F     9542\n",
       "H     8304\n",
       "D     6775\n",
       "I     5422\n",
       "J     2808\n",
       "Name: color, dtype: int64"
      ]
     },
     "execution_count": 4,
     "metadata": {},
     "output_type": "execute_result"
    }
   ],
   "source": [
    "data.color.value_counts()"
   ]
  },
  {
   "cell_type": "code",
   "execution_count": 5,
   "metadata": {},
   "outputs": [
    {
     "data": {
      "text/plain": [
       "SI1     13065\n",
       "VS2     12258\n",
       "SI2      9194\n",
       "VS1      8171\n",
       "VVS2     5066\n",
       "VVS1     3655\n",
       "IF       1790\n",
       "I1        741\n",
       "Name: clarity, dtype: int64"
      ]
     },
     "execution_count": 5,
     "metadata": {},
     "output_type": "execute_result"
    }
   ],
   "source": [
    "data.clarity.value_counts()"
   ]
  },
  {
   "cell_type": "markdown",
   "metadata": {},
   "source": [
    "# Data Preparation"
   ]
  },
  {
   "cell_type": "markdown",
   "metadata": {},
   "source": [
    "Now as the categorical data is converted into numerical, we can continue training the data"
   ]
  },
  {
   "cell_type": "code",
   "execution_count": 6,
   "metadata": {},
   "outputs": [],
   "source": [
    "\n",
    "\n",
    "# enc = OrdinalEncoder()\n",
    "cut_mapper = {\"Fair\":1,\"Good\":2,\"Very Good\":3,\"Premium\":4,\"Ideal\":5}\n",
    "color_mapper = {\"D\":7,\"E\":6,\"F\":5,\"G\":4,\"H\":3,\"I\":2,\"J\":1}\n",
    "clarity_mapper = {\"I1\":1,\"SI2\":2,\"SI1\":3,\"VS2\":4,\"VS1\":5,\"VVS2\":6,\"VVS1\":7,\"IF\":8}\n",
    "# enc.fit(X)\n",
    "data['cut'] = data['cut'].replace(cut_mapper)\n",
    "data['color'] = data['color'].replace(color_mapper)\n",
    "data['clarity'] = data['clarity'].replace(clarity_mapper)\n",
    "\n",
    "\n",
    "\n",
    "keys = [\"carat\",\"depth\",\"price\",\"table\",\"x\",\"y\",\"z\"]\n",
    "index_non_categorical = [0,4,5,6,6,7,8]\n",
    "for x in keys:\n",
    "    data[x] = [float(item) for item in data[x]]"
   ]
  },
  {
   "cell_type": "markdown",
   "metadata": {},
   "source": [
    "# Training the Model"
   ]
  },
  {
   "cell_type": "markdown",
   "metadata": {},
   "source": [
    "## 1.a) KNN Regression"
   ]
  },
  {
   "cell_type": "markdown",
   "metadata": {},
   "source": [
    "### Step1: Split the data into training and testing"
   ]
  },
  {
   "cell_type": "code",
   "execution_count": 7,
   "metadata": {},
   "outputs": [],
   "source": [
    "X = data.drop('price',axis=1)\n",
    "y = data['price']"
   ]
  },
  {
   "cell_type": "code",
   "execution_count": 8,
   "metadata": {},
   "outputs": [],
   "source": [
    "from sklearn.model_selection import train_test_split\n",
    "X_train, X_test, y_train, y_test = train_test_split(X, y, test_size = 0.2, random_state = 0)"
   ]
  },
  {
   "cell_type": "code",
   "execution_count": 9,
   "metadata": {},
   "outputs": [],
   "source": [
    "# splitting the train data into validation and train data\n",
    "X_train,X_validation,y_train,y_validation = train_test_split(X_train, y_train, test_size = 0.25, random_state=5)"
   ]
  },
  {
   "cell_type": "code",
   "execution_count": 10,
   "metadata": {},
   "outputs": [],
   "source": [
    "X_validation = X_validation.to_numpy()\n",
    "X_train = X_train.to_numpy()\n",
    "y_validation = y_validation.to_numpy()\n",
    "y_train = y_train.to_numpy()\n",
    "X_test = X_test.to_numpy()\n",
    "y_test = y_test.to_numpy()"
   ]
  },
  {
   "cell_type": "markdown",
   "metadata": {},
   "source": [
    "### Step2: Train the algorithm with train_data"
   ]
  },
  {
   "cell_type": "code",
   "execution_count": 11,
   "metadata": {},
   "outputs": [],
   "source": [
    "def eucledian(train,test):\n",
    "    return np.sqrt(np.sum((train-test)**2,1))\n",
    "    \n",
    "def manhatton(train,test):\n",
    "    return np.sum(np.abs(np.subtract(train,test)),1)\n",
    "\n",
    "def hamming(train,test):\n",
    "    return np.count_nonzero((train-test),1)\n",
    "    \n",
    "def predict(train,test,k,distance,y):\n",
    "    predicted_values = []\n",
    "    for x in range(0,len(test)):\n",
    "        results = eval(distance + \"(train,test[x])\")\n",
    "        indices = np.argpartition(results, k) \n",
    "        indices = indices[:k]\n",
    "        predicted_values.append(np.sum(y[indices])/k)\n",
    "    return predicted_values\n",
    "\n",
    "def mean_square_error(predicted,actual):\n",
    "    return (np.square(np.subtract(predicted,actual))).mean(axis=None)\n",
    "\n",
    "def mean_absolute_error(predicted,actual):\n",
    "    return (np.absolute(predicted-actual)).mean(axis=None)\n",
    "\n",
    "def r_squared(predicted,actual):\n",
    "    return ((np.corrcoef(predicted, actual))[0,1])**2\n",
    "\n",
    "\n",
    "def display_error(predicted,actual):\n",
    "    print(\"MSE: \",mean_square_error(predicted,actual))\n",
    "    print(\"MAE: \",mean_absolute_error(predicted,actual))\n",
    "    print(\"r_score:\",r_squared(predicted,actual))"
   ]
  },
  {
   "cell_type": "markdown",
   "metadata": {
    "id": "rdhlOuB_0xGr"
   },
   "source": [
    "1. b) Do we need to normalise data? [If so Does it make any difference?].\n",
    "\n",
    "Yes, we have to normalize the data, to change the values of numeric columns in the dataset to use a common scale, without distorting differences in the ranges of values or losing information."
   ]
  },
  {
   "cell_type": "code",
   "execution_count": 12,
   "metadata": {},
   "outputs": [],
   "source": [
    "import scipy.stats as stats\n",
    "def z_score(data):\n",
    "    return (data-np.mean(data))/np.std(data)\n",
    "\n",
    "def min_max(data):\n",
    "    diff = np.max(data) - np.min(data)\n",
    "    return (data-np.min(data))/diff\n",
    "\n",
    "def normalize(data,indexes,norm_factor):\n",
    "    for x in indexes:\n",
    "        data[:,x] = eval(norm_factor+\"(data[:,x])\")\n",
    "    return data\n",
    "\n",
    "\n",
    "X_train = normalize(X_train,index_non_categorical,\"min_max\")\n",
    "X_validation = normalize(X_validation,index_non_categorical,\"min_max\")\n",
    "X_test = normalize(X_test,index_non_categorical,\"min_max\")\n",
    "errors = {}\n",
    "for k in range(2,20):\n",
    "    errors[k] = (r_squared(predict(X_train,X_validation,k,\"eucledian\",y_train),y_validation))"
   ]
  },
  {
   "cell_type": "code",
   "execution_count": 13,
   "metadata": {},
   "outputs": [
    {
     "name": "stdout",
     "output_type": "stream",
     "text": [
      "2: 0.8789680672439414\n",
      "3: 0.8940635587516028\n",
      "4: 0.8983844262378152\n",
      "5: 0.9015631496585025\n",
      "6: 0.9022275147891321\n",
      "7: 0.9021876712192236\n",
      "8: 0.9018720163486883\n",
      "9: 0.9006703429839179\n",
      "10: 0.898639274747009\n",
      "11: 0.8963942070894232\n",
      "12: 0.8938113053945826\n",
      "13: 0.8921756731123387\n",
      "14: 0.8898356207264839\n",
      "15: 0.8881512189789706\n",
      "16: 0.886502311345205\n",
      "17: 0.8847470394583735\n",
      "18: 0.8831141587225247\n",
      "19: 0.8815100742071276\n"
     ]
    }
   ],
   "source": [
    "for k in errors.keys():\n",
    "    print(str(k)+\": \"+str(errors[k]))"
   ]
  },
  {
   "cell_type": "markdown",
   "metadata": {
    "id": "E5bPcmCj0xCn"
   },
   "source": [
    "2. Experiment with different distance measures[Euclidean distance, Manhattan distance, Hamming Distance] to handle categorical attributes."
   ]
  },
  {
   "cell_type": "code",
   "execution_count": 14,
   "metadata": {
    "id": "JVFgXFJM3I0m"
   },
   "outputs": [
    {
     "name": "stdout",
     "output_type": "stream",
     "text": [
      "For eucledian distances\n",
      "MSE:  5961936.879162033\n",
      "MAE:  2007.3284019280684\n",
      "r2_score  0.8525643229512686\n",
      "\n",
      "\n",
      "\n",
      "#########################################################\n",
      "\n",
      "\n",
      "\n",
      "For manhatton distances\n",
      "MSE:  839877.7568520579\n",
      "MAE:  456.91221727845755\n",
      "r2_score  0.9477589004670587\n",
      "\n",
      "\n",
      "\n",
      "#########################################################\n",
      "\n",
      "\n",
      "\n",
      "For hamming distances\n",
      "MSE:  19710108.43803856\n",
      "MAE:  3282.639803485354\n",
      "r2_score  0.0002714498791301937\n"
     ]
    }
   ],
   "source": [
    "# show all the experiments\n",
    "\n",
    "def display_errors(mean_square_error1,mean_absolute_error1,r_squared1):\n",
    "    print(\"MSE: \",mean_square_error1)\n",
    "    print(\"MAE: \",mean_absolute_error1)\n",
    "    print(\"r2_score \",r_squared1)\n",
    "\n",
    "print(\"For eucledian distances\")\n",
    "temp = predict(X_train,X_test,5,\"eucledian\",y_train)\n",
    "mean_square_error1 = mean_square_error(temp,y_test)\n",
    "mean_absolute_error1 = mean_absolute_error(temp,y_test)\n",
    "r_squared1 = r_squared(temp,y_test)\n",
    "display_errors(mean_square_error1,mean_absolute_error1,r_squared1)\n",
    "print(\"\\n\\n\\n#########################################################\\n\\n\\n\")\n",
    "\n",
    "\n",
    "\n",
    "print(\"For manhatton distances\")\n",
    "y_predict_knn = predict(X_train,X_test,5,\"manhatton\",y_train)\n",
    "mean_square_error2 = mean_square_error(y_predict_knn,y_test)\n",
    "mean_absolute_error2 = mean_absolute_error(y_predict_knn,y_test)\n",
    "r_squared2 = r_squared(y_predict_knn,y_test)\n",
    "display_errors(mean_square_error2,mean_absolute_error2,r_squared2)\n",
    "\n",
    "\n",
    "print(\"\\n\\n\\n#########################################################\\n\\n\\n\")\n",
    "print(\"For hamming distances\")\n",
    "temp = predict(X_train,X_validation,5,\"hamming\",y_train)\n",
    "mean_square_error3 = mean_square_error(temp,y_test)\n",
    "mean_absolute_error3 = mean_absolute_error(temp,y_test)\n",
    "r_squared3 = r_squared(temp,y_test)\n",
    "display_errors(mean_square_error3,mean_absolute_error3,r_squared3)"
   ]
  },
  {
   "cell_type": "markdown",
   "metadata": {
    "id": "O64G_tqG0w_l"
   },
   "source": [
    "3. Report Mean Squared Error(MSE), Mean-Absolute-Error(MAE), R-squared (R2) score in a tabular form."
   ]
  },
  {
   "cell_type": "code",
   "execution_count": 15,
   "metadata": {
    "id": "1WGPbWa-3JY7"
   },
   "outputs": [
    {
     "name": "stdout",
     "output_type": "stream",
     "text": [
      "| Errors              |      Eucledian |     Manhattan |        Hamming |\n",
      "|---------------------+----------------+---------------+----------------|\n",
      "| mean_square_error   |    5.96194e+06 | 839878        |    1.97101e+07 |\n",
      "| mean_absolute_error | 2007.33        |    456.912    | 3282.64        |\n",
      "| r_squared           |    0.852564    |      0.947759 |    0.00027145  |\n"
     ]
    }
   ],
   "source": [
    "# report a table\n",
    "tabuler_data = [[\"mean_square_error\",mean_square_error1,mean_square_error2,mean_square_error3],[\"mean_absolute_error\",mean_absolute_error1,mean_absolute_error2,mean_absolute_error3],[\"r_squared\",r_squared1,r_squared2,r_squared3]]\n",
    "print(tabulate(tabuler_data, headers=['Errors','Eucledian','Manhattan','Hamming'], tablefmt='orgtbl'))"
   ]
  },
  {
   "cell_type": "markdown",
   "metadata": {
    "id": "MA2kN7dL0wjE"
   },
   "source": [
    "4.  a) Choose different K values (k=2,3,5,7,11,16) and experiment. Plot a graph showing R2 score vs k."
   ]
  },
  {
   "cell_type": "code",
   "execution_count": 16,
   "metadata": {
    "id": "Z3VSKWrU3KBT"
   },
   "outputs": [],
   "source": [
    "# plot\n",
    "ks = [2,3,5,7,11,16]\n",
    "r2_scores = []\n",
    "for k in ks:\n",
    "    r2_scores.append(r_squared(predict(X_train,X_test,k,\"eucledian\",y_train),y_test))"
   ]
  },
  {
   "cell_type": "code",
   "execution_count": 17,
   "metadata": {},
   "outputs": [
    {
     "data": {
      "image/png": "[encoded data removed]",
      "text/plain": [
       "<Figure size 432x288 with 1 Axes>"
      ]
     },
     "metadata": {
      "needs_background": "light"
     },
     "output_type": "display_data"
    }
   ],
   "source": [
    "fig,ax = plt.subplots(1,1)\n",
    "ax.plot(ks, r2_scores) \n",
    "  \n",
    "ax.set_xlabel('K values') \n",
    "ax.set_ylabel('R2 scores') \n",
    "ax.set_xticks(ks)\n",
    "plt.show() "
   ]
  },
  {
   "cell_type": "markdown",
   "metadata": {
    "id": "xgkHg7QL1mzy"
   },
   "source": [
    "4. b) Are the R-squared scores the same? Why / Why not? How do we identify the best K? Suggest a computational procedure, with a logical explanation."
   ]
  },
  {
   "cell_type": "markdown",
   "metadata": {
    "id": "XmFoYY0q3Kyk"
   },
   "source": [
    "### Explanation\n",
    "\n",
    "R2 scores are not same for each value of K. In KNN regression, K is a hyperparameter, whenever we tune it the results vary. We will choose the best k value depending the evaluation_metrics. \n",
    "\n",
    "Here for the K value as 5 r2_score is high. high r2_score indicates better model. So we can didentify the best K using evaluation_metrices. we can also identify the K with the error it produces. lesser teh error more better the model is fitted to the data. \n",
    "\n",
    "Computation procedure here may mean that we can calculate for which value of K we get more acuracy we choose that using evaluation metrices"
   ]
  },
  {
   "cell_type": "markdown",
   "metadata": {
    "id": "Psho4dHI1wXb"
   },
   "source": [
    "5. a) Also, report the performance of scikit-learn’s kNN regression algorithm.  "
   ]
  },
  {
   "cell_type": "code",
   "execution_count": 18,
   "metadata": {
    "id": "XmBOqvrm3Lkf"
   },
   "outputs": [
    {
     "name": "stdout",
     "output_type": "stream",
     "text": [
      "MSE:  5678004.78345152\n",
      "MAE:  1963.6934556915091\n",
      "r_score: 0.8435327082973947\n"
     ]
    }
   ],
   "source": [
    "# scikit-learn KNN Regressor\n",
    "\n",
    "from sklearn.neighbors import KNeighborsRegressor\n",
    "\n",
    "\n",
    "model = KNeighborsRegressor(n_neighbors=8)\n",
    "\n",
    "model.fit(X_train,y_train)  \n",
    "pred = model.predict(X_test)\n",
    "display_error(pred,y_test)\n",
    "r2_scores = r_squared(pred,y_test)"
   ]
  },
  {
   "cell_type": "markdown",
   "metadata": {
    "id": "R7ZzdSUu2Iez"
   },
   "source": [
    "5. b) Compare it with the algorithm you built. [ you can use complexities, R2 score etc..]"
   ]
  },
  {
   "cell_type": "code",
   "execution_count": 19,
   "metadata": {
    "id": "hmi9rZDF3MNB"
   },
   "outputs": [
    {
     "name": "stdout",
     "output_type": "stream",
     "text": [
      "|                         |   R2 Scores |\n",
      "|-------------------------+-------------|\n",
      "| Using inbuilt algorithm |    0.843533 |\n",
      "| My algorithm            |    0.947759 |\n"
     ]
    }
   ],
   "source": [
    "# Comparison\n",
    "tabuler_data = [[\"Using inbuilt algorithm\",r2_scores],[\"My algorithm\",r_squared2]]\n",
    "print(tabulate(tabuler_data, headers=['','R2 Scores'], tablefmt='orgtbl'))"
   ]
  },
  {
   "cell_type": "markdown",
   "metadata": {
    "id": "Xa-vbZfY2OFO"
   },
   "source": [
    "6. From the above experiments, what do you think are advantages and disadvantages of the knn regression algorithm?\n"
   ]
  },
  {
   "cell_type": "markdown",
   "metadata": {
    "id": "hDCRj4H93Mu8"
   },
   "source": [
    "# Report this  along with the experiments\n",
    "\n",
    "<b>Advantages:</b>\n",
    "\n",
    "- No Training Period</b>- KNN modeling does not include training period as the data itself is a model which will be the reference for future prediction and because of this it is very time efficient in term of improvising for a random modeling on the available data.\n",
    "- Easy Implementation</b>- KNN is very easy to implement as the only thing to be calculated is the distance between different points on the basis of data of different features and this distance can easily be calculated using distance formula such as- Euclidian or Manhattan\n",
    "- As there is no training period thus new data can be added at any time since it wont affect the model.\n",
    "\n",
    "<b>Disadvantages</b>\n",
    "    \n",
    "- Does not work well with large dataset</b> as calculating distances between each data instance would be very costly.\n",
    "- Does not work well with high dimensionality</b> as this will complicate the distance calculating process to calculate distance for each dimension.\n",
    "- Sensitive to noisy and missing data</b>\n",
    "- Feature Scaling</b>- Data in all the dimension should be scaled (normalized and standardized) properly ."
   ]
  }
 ],
 "metadata": {
  "colab": {
   "collapsed_sections": [
    "6poNZp96z1gN"
   ],
   "name": "SMAI -Assignment1.ipynb",
   "provenance": []
  },
  "kernelspec": {
   "display_name": "Python 3",
   "language": "python",
   "name": "python3"
  },
  "language_info": {
   "codemirror_mode": {
    "name": "ipython",
    "version": 3
   },
   "file_extension": ".py",
   "mimetype": "text/x-python",
   "name": "python",
   "nbconvert_exporter": "python",
   "pygments_lexer": "ipython3",
   "version": "3.7.9"
  }
 },
 "nbformat": 4,
 "nbformat_minor": 1
}
